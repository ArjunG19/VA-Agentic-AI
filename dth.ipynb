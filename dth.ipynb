{
 "cells": [
  {
   "cell_type": "code",
   "execution_count": 9,
   "id": "7e6e3244",
   "metadata": {},
   "outputs": [],
   "source": [
    "import pandas as pd\n",
    "import redis\n",
    "from redis.commands.search.field import TextField, NumericField\n",
    "from redis.commands.search.index_definition import IndexDefinition, IndexType"
   ]
  },
  {
   "cell_type": "code",
   "execution_count": 10,
   "id": "67e30b5a",
   "metadata": {},
   "outputs": [],
   "source": [
    "df = pd.read_csv(\"channels.csv\")\n",
    "df = df.fillna(\"\")"
   ]
  },
  {
   "cell_type": "code",
   "execution_count": 11,
   "id": "7417208a",
   "metadata": {},
   "outputs": [
    {
     "data": {
      "text/html": [
       "<div>\n",
       "<style scoped>\n",
       "    .dataframe tbody tr th:only-of-type {\n",
       "        vertical-align: middle;\n",
       "    }\n",
       "\n",
       "    .dataframe tbody tr th {\n",
       "        vertical-align: top;\n",
       "    }\n",
       "\n",
       "    .dataframe thead th {\n",
       "        text-align: right;\n",
       "    }\n",
       "</style>\n",
       "<table border=\"1\" class=\"dataframe\">\n",
       "  <thead>\n",
       "    <tr style=\"text-align: right;\">\n",
       "      <th></th>\n",
       "      <th>Sr. No.</th>\n",
       "      <th>Channel Name</th>\n",
       "      <th>HD/SD</th>\n",
       "      <th>Genre</th>\n",
       "      <th>EPG No.</th>\n",
       "      <th>FTA/Pay</th>\n",
       "      <th>MRP</th>\n",
       "      <th>MRP + Tax</th>\n",
       "    </tr>\n",
       "  </thead>\n",
       "  <tbody>\n",
       "    <tr>\n",
       "      <th>0</th>\n",
       "      <td>1</td>\n",
       "      <td>DD National</td>\n",
       "      <td>SD</td>\n",
       "      <td>Hindi Entertainment</td>\n",
       "      <td>114</td>\n",
       "      <td>FTA</td>\n",
       "      <td>FTA</td>\n",
       "      <td>FTA</td>\n",
       "    </tr>\n",
       "    <tr>\n",
       "      <th>1</th>\n",
       "      <td>2</td>\n",
       "      <td>Star Plus HD</td>\n",
       "      <td>HD</td>\n",
       "      <td>Hindi Entertainment</td>\n",
       "      <td>115</td>\n",
       "      <td>Pay</td>\n",
       "      <td>19</td>\n",
       "      <td>22.42</td>\n",
       "    </tr>\n",
       "    <tr>\n",
       "      <th>2</th>\n",
       "      <td>3</td>\n",
       "      <td>Star Plus</td>\n",
       "      <td>SD</td>\n",
       "      <td>Hindi Entertainment</td>\n",
       "      <td>117</td>\n",
       "      <td>Pay</td>\n",
       "      <td>19</td>\n",
       "      <td>22.42</td>\n",
       "    </tr>\n",
       "    <tr>\n",
       "      <th>3</th>\n",
       "      <td>4</td>\n",
       "      <td>Star Bharat HD</td>\n",
       "      <td>HD</td>\n",
       "      <td>Hindi Entertainment</td>\n",
       "      <td>121</td>\n",
       "      <td>Pay</td>\n",
       "      <td>19</td>\n",
       "      <td>22.42</td>\n",
       "    </tr>\n",
       "    <tr>\n",
       "      <th>4</th>\n",
       "      <td>5</td>\n",
       "      <td>Star Bharat</td>\n",
       "      <td>SD</td>\n",
       "      <td>Hindi Entertainment</td>\n",
       "      <td>122</td>\n",
       "      <td>Pay</td>\n",
       "      <td>10</td>\n",
       "      <td>11.8</td>\n",
       "    </tr>\n",
       "  </tbody>\n",
       "</table>\n",
       "</div>"
      ],
      "text/plain": [
       "   Sr. No.    Channel Name HD/SD                Genre  EPG No. FTA/Pay  MRP  \\\n",
       "0        1     DD National    SD  Hindi Entertainment      114     FTA  FTA   \n",
       "1        2    Star Plus HD    HD  Hindi Entertainment      115     Pay   19   \n",
       "2        3       Star Plus    SD  Hindi Entertainment      117     Pay   19   \n",
       "3        4  Star Bharat HD    HD  Hindi Entertainment      121     Pay   19   \n",
       "4        5     Star Bharat    SD  Hindi Entertainment      122     Pay   10   \n",
       "\n",
       "  MRP + Tax  \n",
       "0       FTA  \n",
       "1     22.42  \n",
       "2     22.42  \n",
       "3     22.42  \n",
       "4      11.8  "
      ]
     },
     "execution_count": 11,
     "metadata": {},
     "output_type": "execute_result"
    }
   ],
   "source": [
    "df.head()"
   ]
  },
  {
   "cell_type": "code",
   "execution_count": 12,
   "id": "2bcd646d",
   "metadata": {},
   "outputs": [],
   "source": [
    "r = redis.Redis(host=\"localhost\", port=6379, decode_responses=True)\n"
   ]
  },
  {
   "cell_type": "code",
   "execution_count": 13,
   "id": "9b0c263b",
   "metadata": {},
   "outputs": [
    {
     "name": "stdout",
     "output_type": "stream",
     "text": [
      "Index created successfully.\n"
     ]
    }
   ],
   "source": [
    "try:\n",
    "    r.ft(\"channels\").create_index(\n",
    "        fields=[\n",
    "            TextField(\"search_text\"),\n",
    "            TextField(\"Channel_Name\"),\n",
    "            TextField(\"Genre\"),\n",
    "            TextField(\"HD_SD\"),\n",
    "            NumericField(\"EPG_No\"),\n",
    "            TextField(\"FTA_Pay\"),\n",
    "            TextField(\"MRP\"),\n",
    "            TextField(\"MRP_Tax\")\n",
    "        ],\n",
    "        definition=IndexDefinition(prefix=[\"channel:\"], index_type=IndexType.HASH)\n",
    "    )\n",
    "    print(\"Index created successfully.\")\n",
    "except Exception as e:\n",
    "    print(\"Index creation failed or already exists:\", e)"
   ]
  },
  {
   "cell_type": "code",
   "execution_count": 14,
   "id": "b7c180db",
   "metadata": {},
   "outputs": [],
   "source": [
    "for idx, row in df.iterrows():\n",
    "    channel_id = f\"channel:{idx}\"\n",
    "    search_text = f\"{row['Channel Name']} {row['Genre']}\"\n",
    "    \n",
    "    r.hset(channel_id, mapping={\n",
    "        \"search_text\": str(search_text),\n",
    "        \"Channel_Name\": str(row[\"Channel Name\"]),\n",
    "        \"Genre\": str(row[\"Genre\"]),\n",
    "        \"HD_SD\": str(row[\"HD/SD\"]),\n",
    "        \"EPG_No\": int(row[\"EPG No.\"]) if str(row[\"EPG No.\"]).isdigit() else -1,\n",
    "        \"FTA_Pay\": str(row[\"FTA/Pay\"]),\n",
    "        \"MRP\": str(row[\"MRP\"]),\n",
    "        \"MRP_Tax\": str(row[\"MRP + Tax\"])\n",
    "    })\n"
   ]
  },
  {
   "cell_type": "code",
   "execution_count": null,
   "id": "dba4787f",
   "metadata": {},
   "outputs": [],
   "source": []
  }
 ],
 "metadata": {
  "kernelspec": {
   "display_name": "lli",
   "language": "python",
   "name": "python3"
  },
  "language_info": {
   "codemirror_mode": {
    "name": "ipython",
    "version": 3
   },
   "file_extension": ".py",
   "mimetype": "text/x-python",
   "name": "python",
   "nbconvert_exporter": "python",
   "pygments_lexer": "ipython3",
   "version": "3.10.13"
  }
 },
 "nbformat": 4,
 "nbformat_minor": 5
}
