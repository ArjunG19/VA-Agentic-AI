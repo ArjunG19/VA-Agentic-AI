{
 "cells": [
  {
   "cell_type": "code",
   "execution_count": 10,
   "id": "a2b497e3",
   "metadata": {},
   "outputs": [],
   "source": [
    "import pandas as pd\n",
    "import redis\n",
    "from redis.commands.search.field import TextField, NumericField\n",
    "from redis.commands.search.index_definition import IndexDefinition, IndexType\n"
   ]
  },
  {
   "cell_type": "code",
   "execution_count": 2,
   "id": "d8b02e45",
   "metadata": {},
   "outputs": [
    {
     "name": "stderr",
     "output_type": "stream",
     "text": [
      "/opt/anaconda3/envs/lli/lib/python3.10/site-packages/tqdm/auto.py:21: TqdmWarning: IProgress not found. Please update jupyter and ipywidgets. See https://ipywidgets.readthedocs.io/en/stable/user_install.html\n",
      "  from .autonotebook import tqdm as notebook_tqdm\n"
     ]
    }
   ],
   "source": [
    "df = pd.read_csv(\"hf://datasets/dubinthebox/movies/movies.csv\")"
   ]
  },
  {
   "cell_type": "code",
   "execution_count": 7,
   "id": "29666b2b",
   "metadata": {},
   "outputs": [],
   "source": [
    "r = redis.Redis(host=\"localhost\", port=6379, decode_responses=True)"
   ]
  },
  {
   "cell_type": "code",
   "execution_count": 11,
   "id": "2db5fa48",
   "metadata": {},
   "outputs": [],
   "source": [
    "try:\n",
    "    r.ft(\"movies\").create_index(\n",
    "        fields=[\n",
    "            TextField(\"search_text\"),\n",
    "            TextField(\"title\"),\n",
    "            TextField(\"year\"),\n",
    "            TextField(\"genre\"),\n",
    "            TextField(\"director\"),\n",
    "            TextField(\"stars\"),\n",
    "            NumericField(\"rating\"),\n",
    "        ],\n",
    "        definition=IndexDefinition(prefix=[\"movie:\"], index_type=IndexType.HASH)\n",
    "    )\n",
    "except Exception as e:\n",
    "    print(\"Index creation skipped or failed:\", e)"
   ]
  },
  {
   "cell_type": "code",
   "execution_count": 12,
   "id": "57935e7b",
   "metadata": {},
   "outputs": [],
   "source": [
    "for i, row in df.iterrows():\n",
    "    search_text = f\"{row['title']} {row['year']} {row['genre']} {row['director']} {row['stars']}\"\n",
    "    key = f\"movie:{i}\"\n",
    "    r.hset(key, mapping={\n",
    "        \"search_text\": search_text,\n",
    "        \"title\": row[\"title\"],\n",
    "        \"year\": row[\"year\"],\n",
    "        \"genre\": row[\"genre\"],\n",
    "        \"director\": row[\"director\"],\n",
    "        \"stars\": row[\"stars\"],\n",
    "        \"rating\": row[\"rating\"]\n",
    "    })"
   ]
  },
  {
   "cell_type": "code",
   "execution_count": null,
   "id": "a026643b",
   "metadata": {},
   "outputs": [],
   "source": []
  }
 ],
 "metadata": {
  "kernelspec": {
   "display_name": "lli",
   "language": "python",
   "name": "python3"
  },
  "language_info": {
   "codemirror_mode": {
    "name": "ipython",
    "version": 3
   },
   "file_extension": ".py",
   "mimetype": "text/x-python",
   "name": "python",
   "nbconvert_exporter": "python",
   "pygments_lexer": "ipython3",
   "version": "3.10.13"
  }
 },
 "nbformat": 4,
 "nbformat_minor": 5
}
