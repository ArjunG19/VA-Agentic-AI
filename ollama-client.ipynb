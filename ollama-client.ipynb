{
 "cells": [
  {
   "cell_type": "code",
   "execution_count": 9,
   "id": "c405fc4f",
   "metadata": {},
   "outputs": [],
   "source": [
    "from llama_index.llms.ollama import Ollama\n",
    "llm = Ollama(\n",
    "    model=\"llama3.1:latest\",\n",
    "    request_timeout=600\n",
    ")"
   ]
  },
  {
   "cell_type": "code",
   "execution_count": 10,
   "id": "134f7115",
   "metadata": {},
   "outputs": [],
   "source": [
    "from llama_index.tools.mcp import BasicMCPClient, McpToolSpec\n",
    "mcp_client= BasicMCPClient(\"http://127.0.0.1:8000/sse\")\n",
    "mcp_tools=McpToolSpec(client=mcp_client)"
   ]
  },
  {
   "cell_type": "code",
   "execution_count": 11,
   "id": "004a5133",
   "metadata": {},
   "outputs": [
    {
     "name": "stdout",
     "output_type": "stream",
     "text": [
      "play_movie \n",
      "    Play a movie on the specified video streaming platform. If any parameter is missing ask the user for it one by one. Do not assume anything on your own\n",
      "\n",
      "    Args:\n",
      "        movie_name (str): Name or partial name of the movie to play.\n",
      "        platform_name (str): Must be one of: Netflix, Hulu, Disney+, Amazon Prime, HBO Max, YouTube, Apple TV+.\n",
      "\n",
      "    Returns:\n",
      "        str: Confirmation message with matched movie (and rating if available), \n",
      "             or validation/suggestion message with other movie recommendations.\n",
      "    \n",
      "play_music \n",
      "    Play a song using Jio Saavn. If the song name is missing ask the user for it.\n",
      "\n",
      "    Args:\n",
      "        song_name (str): Name or partial name of the song to play.\n",
      "\n",
      "    Returns:\n",
      "        str: Confirmation message with matched song; prompts user if song name is not provided.\n",
      "    \n",
      "play_game \n",
      "    Launch a game using Jio Games service. If the name of the game is missing ask the user fro it.\n",
      "\n",
      "    Args:\n",
      "        game_name (str): Name or partial name of the game to launch.\n",
      "\n",
      "    Returns:\n",
      "        str: Confirmation message with matched game (plus rating/year if available) or prompts user if input is missing.\n",
      "    \n",
      "install_app \n",
      "    Install an application from the Jio Store. If the app name is missing ask the user for it.\n",
      "\n",
      "    Args:\n",
      "        app_name (str): Name of the app to install (must not be empty).\n",
      "\n",
      "    Returns:\n",
      "        str: Confirmation message including app category if detected; prompts user if name is missing.\n",
      "    \n",
      "control_volume \n",
      "    Control the system volume.\n",
      "\n",
      "    Args:\n",
      "        action (str): One of {'increase', 'decrease', 'mute', 'unmute', 'set'}. \n",
      "        value (int, optional): Amount (%) to adjust or set volume (for applicable actions).\n",
      "\n",
      "    Returns:\n",
      "        str: Message reflecting volume control or guidance if usage is incorrect.\n",
      "    \n",
      "get_system_info \n",
      "    Get high-level system and service information.\n",
      "\n",
      "    Returns:\n",
      "        str: Information about simulated current volume, available services, app store, and database status.\n",
      "    \n"
     ]
    }
   ],
   "source": [
    "tools= await mcp_tools.to_tool_list_async()\n",
    "for tool in tools:\n",
    "    print(tool.metadata.name, tool.metadata.description)"
   ]
  },
  {
   "cell_type": "code",
   "execution_count": 12,
   "id": "692ff351",
   "metadata": {},
   "outputs": [],
   "source": [
    "SYSTEM_PROMPT=\"\"\"\\\n",
    "    You are an AI assistant for tool calling for a smart TV control.\n",
    "    Work with tools to perform the required actions and ask the user for any missing parameters in natural language if required but only 1 at a time.\n",
    "\n",
    "\"\"\""
   ]
  },
  {
   "cell_type": "code",
   "execution_count": 13,
   "id": "7fbf95f6",
   "metadata": {},
   "outputs": [],
   "source": [
    "from llama_index.core.agent.workflow import FunctionAgent\n",
    "async def get_agent(tools: McpToolSpec):\n",
    "    tools=await tools.to_tool_list_async()\n",
    "    agent=FunctionAgent(\n",
    "        name=\"Agent\",\n",
    "        description=\"An agent interacting with a smart TV\",\n",
    "        tools=tools,\n",
    "        llm=llm,\n",
    "        system_prompt=SYSTEM_PROMPT,\n",
    "    )\n",
    "    print(\"agent returned successfuly\")\n",
    "    return agent\n"
   ]
  },
  {
   "cell_type": "code",
   "execution_count": 14,
   "id": "e14665ce",
   "metadata": {},
   "outputs": [],
   "source": [
    "from llama_index.core.agent.workflow import FunctionAgent,ToolCallResult,ToolCall\n",
    "from llama_index.core.workflow import Context\n",
    "\n",
    "async def handle_user_message(\n",
    "    message_content:str,\n",
    "    agent: FunctionAgent,\n",
    "    agent_context: Context,\n",
    "    verbose:bool = False,\n",
    "):\n",
    "    handler=agent.run(message_content,ctx=agent_context)\n",
    "    print(\"agent ran\")\n",
    "    async for event in handler.stream_events():\n",
    "        if verbose and type(event) == ToolCall:\n",
    "            print(f\"Calling tool {event.tool_name} with kwargs {event.tool_kwargs}\")\n",
    "        elif verbose and type(event) == ToolCallResult:\n",
    "            print(f\"Tool {event.tool_name} returned {event.tool_output}\")\n",
    "    response = await handler\n",
    "    return str(response)"
   ]
  },
  {
   "cell_type": "code",
   "execution_count": 15,
   "id": "dad4fab1",
   "metadata": {},
   "outputs": [
    {
     "name": "stdout",
     "output_type": "stream",
     "text": [
      "agent returned successfuly\n"
     ]
    }
   ],
   "source": [
    "agent= await get_agent(mcp_tools)\n",
    "agent_context=Context(agent)"
   ]
  },
  {
   "cell_type": "code",
   "execution_count": 16,
   "id": "8f239bcb",
   "metadata": {},
   "outputs": [
    {
     "name": "stdout",
     "output_type": "stream",
     "text": [
      "You: i want to watch spiderman on netflix\n",
      "agent ran\n",
      "Calling tool play_movie with kwargs {'movie_name': 'Spiderman', 'platform_name': 'Netflix'}\n",
      "Tool play_movie returned meta=None content=[TextContent(type='text', text=\"Playing 'Spider-Man' on Netflix\", annotations=None, meta=None)] structuredContent={'result': \"Playing 'Spider-Man' on Netflix\"} isError=False\n"
     ]
    },
    {
     "ename": "CancelledError",
     "evalue": "",
     "output_type": "error",
     "traceback": [
      "\u001b[0;31m---------------------------------------------------------------------------\u001b[0m",
      "\u001b[0;31mCancelledError\u001b[0m                            Traceback (most recent call last)",
      "Cell \u001b[0;32mIn[16], line 6\u001b[0m\n\u001b[1;32m      4\u001b[0m     \u001b[38;5;28;01mbreak\u001b[39;00m\n\u001b[1;32m      5\u001b[0m \u001b[38;5;28mprint\u001b[39m(\u001b[38;5;124m\"\u001b[39m\u001b[38;5;124mYou:\u001b[39m\u001b[38;5;124m\"\u001b[39m,user_input)\n\u001b[0;32m----> 6\u001b[0m response\u001b[38;5;241m=\u001b[39m\u001b[38;5;28;01mawait\u001b[39;00m handle_user_message(user_input, agent, agent_context, verbose\u001b[38;5;241m=\u001b[39m\u001b[38;5;28;01mTrue\u001b[39;00m)\n\u001b[1;32m      7\u001b[0m \u001b[38;5;28mprint\u001b[39m(\u001b[38;5;124m\"\u001b[39m\u001b[38;5;124mAgent:\u001b[39m\u001b[38;5;124m\"\u001b[39m, response)\n",
      "Cell \u001b[0;32mIn[14], line 12\u001b[0m, in \u001b[0;36mhandle_user_message\u001b[0;34m(message_content, agent, agent_context, verbose)\u001b[0m\n\u001b[1;32m     10\u001b[0m handler\u001b[38;5;241m=\u001b[39magent\u001b[38;5;241m.\u001b[39mrun(message_content,ctx\u001b[38;5;241m=\u001b[39magent_context)\n\u001b[1;32m     11\u001b[0m \u001b[38;5;28mprint\u001b[39m(\u001b[38;5;124m\"\u001b[39m\u001b[38;5;124magent ran\u001b[39m\u001b[38;5;124m\"\u001b[39m)\n\u001b[0;32m---> 12\u001b[0m \u001b[38;5;28;01masync\u001b[39;00m \u001b[38;5;28;01mfor\u001b[39;00m event \u001b[38;5;129;01min\u001b[39;00m handler\u001b[38;5;241m.\u001b[39mstream_events():\n\u001b[1;32m     13\u001b[0m     \u001b[38;5;28;01mif\u001b[39;00m verbose \u001b[38;5;129;01mand\u001b[39;00m \u001b[38;5;28mtype\u001b[39m(event) \u001b[38;5;241m==\u001b[39m ToolCall:\n\u001b[1;32m     14\u001b[0m         \u001b[38;5;28mprint\u001b[39m(\u001b[38;5;124mf\u001b[39m\u001b[38;5;124m\"\u001b[39m\u001b[38;5;124mCalling tool \u001b[39m\u001b[38;5;132;01m{\u001b[39;00mevent\u001b[38;5;241m.\u001b[39mtool_name\u001b[38;5;132;01m}\u001b[39;00m\u001b[38;5;124m with kwargs \u001b[39m\u001b[38;5;132;01m{\u001b[39;00mevent\u001b[38;5;241m.\u001b[39mtool_kwargs\u001b[38;5;132;01m}\u001b[39;00m\u001b[38;5;124m\"\u001b[39m)\n",
      "File \u001b[0;32m/opt/anaconda3/envs/lli/lib/python3.10/site-packages/workflows/handler.py:43\u001b[0m, in \u001b[0;36mWorkflowHandler.stream_events\u001b[0;34m(self)\u001b[0m\n\u001b[1;32m     40\u001b[0m     \u001b[38;5;28;01mraise\u001b[39;00m \u001b[38;5;167;01mValueError\u001b[39;00m(\u001b[38;5;124m\"\u001b[39m\u001b[38;5;124mContext is not set!\u001b[39m\u001b[38;5;124m\"\u001b[39m)\n\u001b[1;32m     42\u001b[0m \u001b[38;5;28;01mwhile\u001b[39;00m \u001b[38;5;28;01mTrue\u001b[39;00m:\n\u001b[0;32m---> 43\u001b[0m     ev \u001b[38;5;241m=\u001b[39m \u001b[38;5;28;01mawait\u001b[39;00m \u001b[38;5;28mself\u001b[39m\u001b[38;5;241m.\u001b[39mctx\u001b[38;5;241m.\u001b[39mstreaming_queue\u001b[38;5;241m.\u001b[39mget()\n\u001b[1;32m     45\u001b[0m     \u001b[38;5;28;01myield\u001b[39;00m ev\n\u001b[1;32m     47\u001b[0m     \u001b[38;5;28;01mif\u001b[39;00m \u001b[38;5;28misinstance\u001b[39m(ev, StopEvent):\n",
      "File \u001b[0;32m/opt/anaconda3/envs/lli/lib/python3.10/asyncio/queues.py:159\u001b[0m, in \u001b[0;36mQueue.get\u001b[0;34m(self)\u001b[0m\n\u001b[1;32m    157\u001b[0m \u001b[38;5;28mself\u001b[39m\u001b[38;5;241m.\u001b[39m_getters\u001b[38;5;241m.\u001b[39mappend(getter)\n\u001b[1;32m    158\u001b[0m \u001b[38;5;28;01mtry\u001b[39;00m:\n\u001b[0;32m--> 159\u001b[0m     \u001b[38;5;28;01mawait\u001b[39;00m getter\n\u001b[1;32m    160\u001b[0m \u001b[38;5;28;01mexcept\u001b[39;00m:\n\u001b[1;32m    161\u001b[0m     getter\u001b[38;5;241m.\u001b[39mcancel()  \u001b[38;5;66;03m# Just in case getter is not done yet.\u001b[39;00m\n",
      "\u001b[0;31mCancelledError\u001b[0m: "
     ]
    }
   ],
   "source": [
    "while True:\n",
    "    user_input=input(\"You:\")\n",
    "    if(user_input.lower()==\"exit\"):\n",
    "        break\n",
    "    print(\"You:\",user_input)\n",
    "    response=await handle_user_message(user_input, agent, agent_context, verbose=True)\n",
    "    print(\"Agent:\", response)"
   ]
  },
  {
   "cell_type": "code",
   "execution_count": null,
   "id": "b31117e4",
   "metadata": {},
   "outputs": [],
   "source": []
  }
 ],
 "metadata": {
  "kernelspec": {
   "display_name": "lli",
   "language": "python",
   "name": "python3"
  },
  "language_info": {
   "codemirror_mode": {
    "name": "ipython",
    "version": 3
   },
   "file_extension": ".py",
   "mimetype": "text/x-python",
   "name": "python",
   "nbconvert_exporter": "python",
   "pygments_lexer": "ipython3",
   "version": "3.10.13"
  }
 },
 "nbformat": 4,
 "nbformat_minor": 5
}
