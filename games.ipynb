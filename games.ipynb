{
 "cells": [
  {
   "cell_type": "code",
   "execution_count": 13,
   "id": "a9582851",
   "metadata": {},
   "outputs": [],
   "source": [
    "import pandas as pd\n",
    "df = pd.read_parquet(\"/Users/arjungupta/Downloads/train-00000-of-00001.parquet\")\n",
    "df = df.fillna(\"\")"
   ]
  },
  {
   "cell_type": "code",
   "execution_count": 10,
   "id": "b9dd7f89",
   "metadata": {},
   "outputs": [],
   "source": [
    "import redis\n",
    "from redis.commands.search.field import TextField\n",
    "from redis.commands.search.index_definition import IndexDefinition, IndexType"
   ]
  },
  {
   "cell_type": "code",
   "execution_count": 8,
   "id": "ea6e9039",
   "metadata": {},
   "outputs": [],
   "source": [
    "r = redis.Redis(host=\"localhost\", port=6379, decode_responses=True)"
   ]
  },
  {
   "cell_type": "code",
   "execution_count": 11,
   "id": "0e70b96f",
   "metadata": {},
   "outputs": [],
   "source": [
    "try:\n",
    "    r.ft(\"games\").create_index(\n",
    "        fields=[\n",
    "            TextField(\"search_text\"),\n",
    "            TextField(\"Name\"),\n",
    "            TextField(\"Genre\"),\n",
    "            TextField(\"Publisher\")\n",
    "        ],\n",
    "        definition=IndexDefinition(prefix=[\"game:\"], index_type=IndexType.HASH)\n",
    "    )\n",
    "except Exception as e:\n",
    "    print(\"Index creation failed or already exists:\", e)"
   ]
  },
  {
   "cell_type": "code",
   "execution_count": 14,
   "id": "25259d9d",
   "metadata": {},
   "outputs": [],
   "source": [
    "for idx, row in df.iterrows():\n",
    "    game_id = f\"game:{idx}\"\n",
    "    \n",
    "    search_text = f\"{row['Name']} {row['Genre']} {row['Publisher']}\"\n",
    "    \n",
    "    r.hset(game_id, mapping={\n",
    "        \"search_text\": search_text,\n",
    "        \"Name\": row[\"Name\"],\n",
    "        \"Genre\": row[\"Genre\"],\n",
    "        \"Publisher\": row[\"Publisher\"]\n",
    "    })"
   ]
  },
  {
   "cell_type": "code",
   "execution_count": null,
   "id": "40bb511d",
   "metadata": {},
   "outputs": [],
   "source": []
  }
 ],
 "metadata": {
  "kernelspec": {
   "display_name": "lli",
   "language": "python",
   "name": "python3"
  },
  "language_info": {
   "codemirror_mode": {
    "name": "ipython",
    "version": 3
   },
   "file_extension": ".py",
   "mimetype": "text/x-python",
   "name": "python",
   "nbconvert_exporter": "python",
   "pygments_lexer": "ipython3",
   "version": "3.10.13"
  }
 },
 "nbformat": 4,
 "nbformat_minor": 5
}
